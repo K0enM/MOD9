{
 "cells": [
  {
   "cell_type": "markdown",
   "metadata": {},
   "source": [
    "# Introduction\n",
    "\n",
    "In December 2014 Mr. Santanna was attacked by students. The students performed a Distributed Denial of Service (DDoS) attack. DDoS attacks are malicious attempts to disrupt normal traffic of a web property through the intentional repetition of the network traffic with similar characteristics, making them a threat to the availability of the service. This aforementioned attack performed by students was captured by Mr. Santanna and is now used for educational purposes. In this report an analysis of the DDoS attack is presented. "
   ]
  },
  {
   "cell_type": "markdown",
   "metadata": {},
   "source": [
    "# Motivation\n",
    "\n",
    "The goal of this analysis is to gain knowledge about what a DDoS attack looks like and how you can detect this. Also the fingerprint of this specific attack is given by analysing the packets sent. For someone trying to prevent a DDoS attack from happening, it is very important to be able to recognise/detect and analyse a DDoS attack. Multiple packets can be sent to and going from an IP-address, however, not all packets are immediately part of a DDoS attack. By examining the packets, we will find out what you have to pay attention to in order to distinguish a DDoS attack and in order to subsequently mitigate the attack."
   ]
  },
  {
   "cell_type": "markdown",
   "metadata": {},
   "source": [
    "# Methodology\n",
    "\n",
    "The methods we used to get to our results were qualitative methods. We analyzed data from a .pcap file in Wireshark, which was acquired by Mr. Santanna following a DDoS attack by students that was targeted at him. We first read the question and depending on the question we had a different approach. For some questions we investigated individual packets and each frame of this packet. For other questions we had to scroll through all packets together to discover a pattern for example. There were also questions where we had to use the summary of the Wireshark file or the statistics header.  The first 7 questions were answered manually by going through Wireshark. Later we also analyzed it in Jupyter Notebook and we came to the same conclusions then. The last questions were analyzed by using Jupyter Notebook by using a notebook made by Mr. Santanna as the basis. We exported the necessary fields from the .pcap file to the .csv file using the following command:"
   ]
  },
  {
   "cell_type": "markdown",
   "metadata": {},
   "source": [
    "```tshark -n -r 'real_booter_attack.pcap' -E separator=\\;  -E header=y -T fields \\\n",
    "-e frame.time_epoch \\\n",
    "-e ip.proto \\\n",
    "-e ip.src \\\n",
    "-e ip.dst \\\n",
    "-e udp.srcport \\\n",
    "-e udp.dstport \\\n",
    "-e tcp.srcport \\\n",
    "-e tcp.dstport \\\n",
    "-e tcp.flags \\\n",
    "-e eth.src \\\n",
    "-e eth.dst \\\n",
    "-e frame.len \\\n",
    "-e dns.qry.type \\\n",
    "-e dns.qry.name \\\n",
    "-e dns.resp.name > real_booter_attack.csv```"
   ]
  },
  {
   "cell_type": "markdown",
   "metadata": {},
   "source": [
    "## Imports"
   ]
  },
  {
   "cell_type": "code",
   "execution_count": 5,
   "metadata": {},
   "outputs": [],
   "source": [
    "import pandas as pd \n",
    "import numpy as np \n",
    "import matplotlib.pyplot as plt  \n",
    "from matplotlib import gridspec \n",
    "import seaborn as sns\n",
    "\n",
    "plt.style.use('ggplot') \n",
    "\n",
    "%matplotlib inline \n",
    "\n",
    "import warnings\n",
    "warnings.filterwarnings('ignore') "
   ]
  },
  {
   "cell_type": "code",
   "execution_count": 6,
   "metadata": {},
   "outputs": [],
   "source": [
    "df = pd.read_csv('real_booter_attack.csv', error_bad_lines=False, sep=';')"
   ]
  },
  {
   "cell_type": "markdown",
   "metadata": {},
   "source": [
    "## Ease of use functions"
   ]
  },
  {
   "cell_type": "code",
   "execution_count": 7,
   "metadata": {},
   "outputs": [],
   "source": [
    "def timestamp2datetime(series):\n",
    "    return  pd.to_datetime(series,unit='s',errors='coerce')"
   ]
  },
  {
   "cell_type": "code",
   "execution_count": 8,
   "metadata": {},
   "outputs": [],
   "source": [
    "def bytes2bits(series):\n",
    "    try:\n",
    "        return  series*8\n",
    "    except AttributeError:\n",
    "        return series     "
   ]
  },
  {
   "cell_type": "markdown",
   "metadata": {},
   "source": [
    "## Creating dataframe"
   ]
  },
  {
   "cell_type": "code",
   "execution_count": 9,
   "metadata": {},
   "outputs": [],
   "source": [
    "df['frame.time_epoch']=timestamp2datetime(df['frame.time_epoch'])"
   ]
  },
  {
   "cell_type": "code",
   "execution_count": 10,
   "metadata": {},
   "outputs": [],
   "source": [
    "df['frame.len']=bytes2bits(df['frame.len'])"
   ]
  },
  {
   "cell_type": "code",
   "execution_count": 11,
   "metadata": {},
   "outputs": [
    {
     "data": {
      "text/html": [
       "<div>\n",
       "<style scoped>\n",
       "    .dataframe tbody tr th:only-of-type {\n",
       "        vertical-align: middle;\n",
       "    }\n",
       "\n",
       "    .dataframe tbody tr th {\n",
       "        vertical-align: top;\n",
       "    }\n",
       "\n",
       "    .dataframe thead th {\n",
       "        text-align: right;\n",
       "    }\n",
       "</style>\n",
       "<table border=\"1\" class=\"dataframe\">\n",
       "  <thead>\n",
       "    <tr style=\"text-align: right;\">\n",
       "      <th></th>\n",
       "      <th>frame.time_epoch</th>\n",
       "      <th>ip.proto</th>\n",
       "      <th>ip.src</th>\n",
       "      <th>ip.dst</th>\n",
       "      <th>udp.srcport</th>\n",
       "      <th>udp.dstport</th>\n",
       "      <th>tcp.srcport</th>\n",
       "      <th>tcp.dstport</th>\n",
       "      <th>tcp.flags</th>\n",
       "      <th>eth.src</th>\n",
       "      <th>eth.dst</th>\n",
       "      <th>frame.len</th>\n",
       "      <th>dns.qry.type</th>\n",
       "      <th>dns.qry.name</th>\n",
       "      <th>dns.resp.name</th>\n",
       "    </tr>\n",
       "  </thead>\n",
       "  <tbody>\n",
       "    <tr>\n",
       "      <th>0</th>\n",
       "      <td>2014-12-22 15:38:42.525944710</td>\n",
       "      <td>1</td>\n",
       "      <td>162.8.125.17</td>\n",
       "      <td>172.31.28.132</td>\n",
       "      <td>NaN</td>\n",
       "      <td>NaN</td>\n",
       "      <td>NaN</td>\n",
       "      <td>NaN</td>\n",
       "      <td>NaN</td>\n",
       "      <td>06:90:f4:0e:e0:ff</td>\n",
       "      <td>06:9a:6c:66:90:33</td>\n",
       "      <td>496</td>\n",
       "      <td>NaN</td>\n",
       "      <td>NaN</td>\n",
       "      <td>NaN</td>\n",
       "    </tr>\n",
       "    <tr>\n",
       "      <th>1</th>\n",
       "      <td>2014-12-22 15:38:42.525982140</td>\n",
       "      <td>1</td>\n",
       "      <td>172.31.28.132</td>\n",
       "      <td>162.8.125.17</td>\n",
       "      <td>NaN</td>\n",
       "      <td>NaN</td>\n",
       "      <td>NaN</td>\n",
       "      <td>NaN</td>\n",
       "      <td>NaN</td>\n",
       "      <td>06:9a:6c:66:90:33</td>\n",
       "      <td>06:90:f4:0e:e0:ff</td>\n",
       "      <td>496</td>\n",
       "      <td>NaN</td>\n",
       "      <td>NaN</td>\n",
       "      <td>NaN</td>\n",
       "    </tr>\n",
       "    <tr>\n",
       "      <th>2</th>\n",
       "      <td>2014-12-22 15:38:42.648396015</td>\n",
       "      <td>17</td>\n",
       "      <td>172.31.28.132</td>\n",
       "      <td>172.31.0.2</td>\n",
       "      <td>51139.0</td>\n",
       "      <td>53.0</td>\n",
       "      <td>NaN</td>\n",
       "      <td>NaN</td>\n",
       "      <td>NaN</td>\n",
       "      <td>06:9a:6c:66:90:33</td>\n",
       "      <td>06:90:f4:0e:e0:ff</td>\n",
       "      <td>824</td>\n",
       "      <td>1.0</td>\n",
       "      <td>ip-172-31-28-132.us-west-2.compute.internal</td>\n",
       "      <td>NaN</td>\n",
       "    </tr>\n",
       "    <tr>\n",
       "      <th>3</th>\n",
       "      <td>2014-12-22 15:38:42.648422003</td>\n",
       "      <td>17</td>\n",
       "      <td>172.31.28.132</td>\n",
       "      <td>172.31.0.2</td>\n",
       "      <td>51139.0</td>\n",
       "      <td>53.0</td>\n",
       "      <td>NaN</td>\n",
       "      <td>NaN</td>\n",
       "      <td>NaN</td>\n",
       "      <td>06:9a:6c:66:90:33</td>\n",
       "      <td>06:90:f4:0e:e0:ff</td>\n",
       "      <td>824</td>\n",
       "      <td>28.0</td>\n",
       "      <td>ip-172-31-28-132.us-west-2.compute.internal</td>\n",
       "      <td>NaN</td>\n",
       "    </tr>\n",
       "    <tr>\n",
       "      <th>4</th>\n",
       "      <td>2014-12-22 15:38:42.648628950</td>\n",
       "      <td>17</td>\n",
       "      <td>172.31.0.2</td>\n",
       "      <td>172.31.28.132</td>\n",
       "      <td>53.0</td>\n",
       "      <td>51139.0</td>\n",
       "      <td>NaN</td>\n",
       "      <td>NaN</td>\n",
       "      <td>NaN</td>\n",
       "      <td>06:90:f4:0e:e0:ff</td>\n",
       "      <td>06:9a:6c:66:90:33</td>\n",
       "      <td>1312</td>\n",
       "      <td>28.0</td>\n",
       "      <td>ip-172-31-28-132.us-west-2.compute.internal</td>\n",
       "      <td>us-west-2.compute.internal</td>\n",
       "    </tr>\n",
       "  </tbody>\n",
       "</table>\n",
       "</div>"
      ],
      "text/plain": [
       "               frame.time_epoch ip.proto         ip.src         ip.dst  \\\n",
       "0 2014-12-22 15:38:42.525944710        1   162.8.125.17  172.31.28.132   \n",
       "1 2014-12-22 15:38:42.525982140        1  172.31.28.132   162.8.125.17   \n",
       "2 2014-12-22 15:38:42.648396015       17  172.31.28.132     172.31.0.2   \n",
       "3 2014-12-22 15:38:42.648422003       17  172.31.28.132     172.31.0.2   \n",
       "4 2014-12-22 15:38:42.648628950       17     172.31.0.2  172.31.28.132   \n",
       "\n",
       "   udp.srcport  udp.dstport  tcp.srcport  tcp.dstport tcp.flags  \\\n",
       "0          NaN          NaN          NaN          NaN       NaN   \n",
       "1          NaN          NaN          NaN          NaN       NaN   \n",
       "2      51139.0         53.0          NaN          NaN       NaN   \n",
       "3      51139.0         53.0          NaN          NaN       NaN   \n",
       "4         53.0      51139.0          NaN          NaN       NaN   \n",
       "\n",
       "             eth.src            eth.dst  frame.len  dns.qry.type  \\\n",
       "0  06:90:f4:0e:e0:ff  06:9a:6c:66:90:33        496           NaN   \n",
       "1  06:9a:6c:66:90:33  06:90:f4:0e:e0:ff        496           NaN   \n",
       "2  06:9a:6c:66:90:33  06:90:f4:0e:e0:ff        824           1.0   \n",
       "3  06:9a:6c:66:90:33  06:90:f4:0e:e0:ff        824          28.0   \n",
       "4  06:90:f4:0e:e0:ff  06:9a:6c:66:90:33       1312          28.0   \n",
       "\n",
       "                                  dns.qry.name               dns.resp.name  \n",
       "0                                          NaN                         NaN  \n",
       "1                                          NaN                         NaN  \n",
       "2  ip-172-31-28-132.us-west-2.compute.internal                         NaN  \n",
       "3  ip-172-31-28-132.us-west-2.compute.internal                         NaN  \n",
       "4  ip-172-31-28-132.us-west-2.compute.internal  us-west-2.compute.internal  "
      ]
     },
     "execution_count": 11,
     "metadata": {},
     "output_type": "execute_result"
    }
   ],
   "source": [
    "df.head()"
   ]
  },
  {
   "cell_type": "markdown",
   "metadata": {},
   "source": [
    "# Results"
   ]
  },
  {
   "cell_type": "markdown",
   "metadata": {},
   "source": [
    "## Question 1: How many records are in the entire trace?"
   ]
  },
  {
   "cell_type": "code",
   "execution_count": 12,
   "metadata": {},
   "outputs": [
    {
     "data": {
      "text/plain": [
       "122233"
      ]
     },
     "execution_count": 12,
     "metadata": {},
     "output_type": "execute_result"
    }
   ],
   "source": [
    "df.shape[0]"
   ]
  },
  {
   "cell_type": "markdown",
   "metadata": {},
   "source": [
    "## Question 2: What is the duration of the entire trace?"
   ]
  },
  {
   "cell_type": "code",
   "execution_count": 13,
   "metadata": {},
   "outputs": [
    {
     "name": "stdout",
     "output_type": "stream",
     "text": [
      "0 days 00:00:25.343013\n"
     ]
    }
   ],
   "source": [
    "diff = df['frame.time_epoch'].iloc[-1] - df['frame.time_epoch'].iloc[0]\n",
    "print(str(diff))"
   ]
  },
  {
   "cell_type": "markdown",
   "metadata": {},
   "source": [
    "## Question 3: Show three packets that are not part of the attack"
   ]
  },
  {
   "cell_type": "code",
   "execution_count": 14,
   "metadata": {},
   "outputs": [
    {
     "data": {
      "text/html": [
       "<div>\n",
       "<style scoped>\n",
       "    .dataframe tbody tr th:only-of-type {\n",
       "        vertical-align: middle;\n",
       "    }\n",
       "\n",
       "    .dataframe tbody tr th {\n",
       "        vertical-align: top;\n",
       "    }\n",
       "\n",
       "    .dataframe thead th {\n",
       "        text-align: right;\n",
       "    }\n",
       "</style>\n",
       "<table border=\"1\" class=\"dataframe\">\n",
       "  <thead>\n",
       "    <tr style=\"text-align: right;\">\n",
       "      <th></th>\n",
       "      <th>frame.time_epoch</th>\n",
       "      <th>ip.proto</th>\n",
       "      <th>ip.src</th>\n",
       "      <th>ip.dst</th>\n",
       "      <th>udp.srcport</th>\n",
       "      <th>udp.dstport</th>\n",
       "      <th>tcp.srcport</th>\n",
       "      <th>tcp.dstport</th>\n",
       "      <th>tcp.flags</th>\n",
       "      <th>eth.src</th>\n",
       "      <th>eth.dst</th>\n",
       "      <th>frame.len</th>\n",
       "      <th>dns.qry.type</th>\n",
       "      <th>dns.qry.name</th>\n",
       "      <th>dns.resp.name</th>\n",
       "    </tr>\n",
       "  </thead>\n",
       "  <tbody>\n",
       "    <tr>\n",
       "      <th>0</th>\n",
       "      <td>2014-12-22 15:38:42.525944710</td>\n",
       "      <td>1</td>\n",
       "      <td>162.8.125.17</td>\n",
       "      <td>172.31.28.132</td>\n",
       "      <td>NaN</td>\n",
       "      <td>NaN</td>\n",
       "      <td>NaN</td>\n",
       "      <td>NaN</td>\n",
       "      <td>NaN</td>\n",
       "      <td>06:90:f4:0e:e0:ff</td>\n",
       "      <td>06:9a:6c:66:90:33</td>\n",
       "      <td>496</td>\n",
       "      <td>NaN</td>\n",
       "      <td>NaN</td>\n",
       "      <td>NaN</td>\n",
       "    </tr>\n",
       "    <tr>\n",
       "      <th>1</th>\n",
       "      <td>2014-12-22 15:38:42.525982140</td>\n",
       "      <td>1</td>\n",
       "      <td>172.31.28.132</td>\n",
       "      <td>162.8.125.17</td>\n",
       "      <td>NaN</td>\n",
       "      <td>NaN</td>\n",
       "      <td>NaN</td>\n",
       "      <td>NaN</td>\n",
       "      <td>NaN</td>\n",
       "      <td>06:9a:6c:66:90:33</td>\n",
       "      <td>06:90:f4:0e:e0:ff</td>\n",
       "      <td>496</td>\n",
       "      <td>NaN</td>\n",
       "      <td>NaN</td>\n",
       "      <td>NaN</td>\n",
       "    </tr>\n",
       "    <tr>\n",
       "      <th>10</th>\n",
       "      <td>2014-12-22 15:38:42.734422922</td>\n",
       "      <td>1</td>\n",
       "      <td>162.8.125.20</td>\n",
       "      <td>172.31.28.132</td>\n",
       "      <td>NaN</td>\n",
       "      <td>NaN</td>\n",
       "      <td>NaN</td>\n",
       "      <td>NaN</td>\n",
       "      <td>NaN</td>\n",
       "      <td>06:90:f4:0e:e0:ff</td>\n",
       "      <td>06:9a:6c:66:90:33</td>\n",
       "      <td>496</td>\n",
       "      <td>NaN</td>\n",
       "      <td>NaN</td>\n",
       "      <td>NaN</td>\n",
       "    </tr>\n",
       "    <tr>\n",
       "      <th>11</th>\n",
       "      <td>2014-12-22 15:38:42.734441042</td>\n",
       "      <td>1</td>\n",
       "      <td>172.31.28.132</td>\n",
       "      <td>162.8.125.20</td>\n",
       "      <td>NaN</td>\n",
       "      <td>NaN</td>\n",
       "      <td>NaN</td>\n",
       "      <td>NaN</td>\n",
       "      <td>NaN</td>\n",
       "      <td>06:9a:6c:66:90:33</td>\n",
       "      <td>06:90:f4:0e:e0:ff</td>\n",
       "      <td>496</td>\n",
       "      <td>NaN</td>\n",
       "      <td>NaN</td>\n",
       "      <td>NaN</td>\n",
       "    </tr>\n",
       "  </tbody>\n",
       "</table>\n",
       "</div>"
      ],
      "text/plain": [
       "                frame.time_epoch ip.proto         ip.src         ip.dst  \\\n",
       "0  2014-12-22 15:38:42.525944710        1   162.8.125.17  172.31.28.132   \n",
       "1  2014-12-22 15:38:42.525982140        1  172.31.28.132   162.8.125.17   \n",
       "10 2014-12-22 15:38:42.734422922        1   162.8.125.20  172.31.28.132   \n",
       "11 2014-12-22 15:38:42.734441042        1  172.31.28.132   162.8.125.20   \n",
       "\n",
       "    udp.srcport  udp.dstport  tcp.srcport  tcp.dstport tcp.flags  \\\n",
       "0           NaN          NaN          NaN          NaN       NaN   \n",
       "1           NaN          NaN          NaN          NaN       NaN   \n",
       "10          NaN          NaN          NaN          NaN       NaN   \n",
       "11          NaN          NaN          NaN          NaN       NaN   \n",
       "\n",
       "              eth.src            eth.dst  frame.len  dns.qry.type  \\\n",
       "0   06:90:f4:0e:e0:ff  06:9a:6c:66:90:33        496           NaN   \n",
       "1   06:9a:6c:66:90:33  06:90:f4:0e:e0:ff        496           NaN   \n",
       "10  06:90:f4:0e:e0:ff  06:9a:6c:66:90:33        496           NaN   \n",
       "11  06:9a:6c:66:90:33  06:90:f4:0e:e0:ff        496           NaN   \n",
       "\n",
       "   dns.qry.name dns.resp.name  \n",
       "0           NaN           NaN  \n",
       "1           NaN           NaN  \n",
       "10          NaN           NaN  \n",
       "11          NaN           NaN  "
      ]
     },
     "execution_count": 14,
     "metadata": {},
     "output_type": "execute_result"
    }
   ],
   "source": [
    "df[df['ip.proto'] == \"1\"]"
   ]
  },
  {
   "cell_type": "markdown",
   "metadata": {},
   "source": [
    "## Question 4: What are the characteristics of the attack? "
   ]
  },
  {
   "cell_type": "code",
   "execution_count": 15,
   "metadata": {},
   "outputs": [
    {
     "name": "stdout",
     "output_type": "stream",
     "text": [
      "Most common destination IP: 172.31.28.132\n",
      "Most common destination port: 80.0\n",
      "Most common attacker src port: 53.0\n",
      "Most commont DNS Query Type: 255.0, better known as ANY\n"
     ]
    }
   ],
   "source": [
    "top_target_ip = df['ip.dst'].value_counts().index[0]\n",
    "top_attacker_src_port = df['udp.srcport'].value_counts().index[0]\n",
    "top_target_src_port = df['udp.dstport'].value_counts().index[0]\n",
    "top_dns_type = df['dns.qry.type'].value_counts().index[0]\n",
    "print('Most common destination IP: %s' % (top_target_ip))\n",
    "print('Most common destination port: %s' % top_target_src_port)\n",
    "print('Most common attacker src port: %s' % top_attacker_src_port)\n",
    "print('Most commont DNS Query Type: %s, better known as ANY' % top_dns_type)"
   ]
  },
  {
   "cell_type": "markdown",
   "metadata": {},
   "source": [
    "## Question 5: What does a wireshark filter of the attack look like? "
   ]
  },
  {
   "cell_type": "markdown",
   "metadata": {},
   "source": [
    "The most logical would be all trafic going to the victim, which would look like: ip.dst == 172.31.28.132"
   ]
  },
  {
   "cell_type": "markdown",
   "metadata": {},
   "source": [
    "## Question 6: Which is the target destination ip of the attack?"
   ]
  },
  {
   "cell_type": "code",
   "execution_count": 16,
   "metadata": {},
   "outputs": [
    {
     "name": "stdout",
     "output_type": "stream",
     "text": [
      "Most common destination IP: 172.31.28.132\n"
     ]
    }
   ],
   "source": [
    "print('Most common destination IP: %s' % (top_target_ip))"
   ]
  },
  {
   "cell_type": "markdown",
   "metadata": {},
   "source": [
    "## Question 7: How many packets are part of the attack?"
   ]
  },
  {
   "cell_type": "code",
   "execution_count": 17,
   "metadata": {},
   "outputs": [
    {
     "data": {
      "text/plain": [
       "120253"
      ]
     },
     "execution_count": 17,
     "metadata": {},
     "output_type": "execute_result"
    }
   ],
   "source": [
    "df[df['ip.dst'] == top_target_ip].shape[0]"
   ]
  },
  {
   "cell_type": "markdown",
   "metadata": {},
   "source": [
    "## Question 8: How many source ips were part of the attack?"
   ]
  },
  {
   "cell_type": "code",
   "execution_count": 18,
   "metadata": {},
   "outputs": [
    {
     "data": {
      "text/plain": [
       "83"
      ]
     },
     "execution_count": 18,
     "metadata": {},
     "output_type": "execute_result"
    }
   ],
   "source": [
    "udp_srcip_dstip_top1=df[df['ip.dst']==top_target_ip]['ip.src']\n",
    "len(udp_srcip_dstip_top1.unique())"
   ]
  },
  {
   "cell_type": "markdown",
   "metadata": {},
   "source": [
    "## Question 9: Which top 3 source ips sent most packets in the attack? "
   ]
  },
  {
   "cell_type": "code",
   "execution_count": 19,
   "metadata": {},
   "outputs": [
    {
     "data": {
      "text/plain": [
       "37.123.96.179    11126\n",
       "61.93.9.158       8086\n",
       "121.32.89.198     6261\n",
       "Name: ip.src, dtype: int64"
      ]
     },
     "execution_count": 19,
     "metadata": {},
     "output_type": "execute_result"
    }
   ],
   "source": [
    "udp_srcip_dstip_top1.value_counts().head(3)"
   ]
  },
  {
   "cell_type": "markdown",
   "metadata": {},
   "source": [
    "## Question 10: Where are the top 3 source ips geolocated?\n",
    "\n",
    "- 37.123.96.179: Manilla, Turkey\n",
    "- 61.93.9.158: Hong kong\n",
    "- 121.32.89.198: Guangzhou, China\n",
    "\n",
    "These results were obtained via [ipinfo.io](https://ipinfo.io)"
   ]
  },
  {
   "cell_type": "markdown",
   "metadata": {},
   "source": [
    "## Question 11: Which autonomous systems are related to these top 3 source ips?"
   ]
  },
  {
   "cell_type": "markdown",
   "metadata": {},
   "source": [
    "- 37.123.96.179: AS57844 SPDNet Telekomunikasyon Hizmetleri Bilgi Teknolojileri Taahhut Sanayi Ve Ticaret A.S.\n",
    "- 61.93.9.158: AS9269 Hong Kong Broadband Network Ltd.\n",
    "- 121.32.89.198: AS134773 CHINANET Guangdong province Guangzhou MAN network\n",
    "\n",
    "These results were obtained via [ipinfo.io](https://ipinfo.io)"
   ]
  },
  {
   "cell_type": "markdown",
   "metadata": {},
   "source": [
    "## Question 12: Wat is the distribution of vendors related to the source IP addressed involved in the attack? "
   ]
  },
  {
   "cell_type": "code",
   "execution_count": 38,
   "metadata": {},
   "outputs": [
    {
     "data": {
      "image/png": "[encoded data removed]",
      "text/plain": [
       "<Figure size 432x288 with 1 Axes>"
      ]
     },
     "metadata": {},
     "output_type": "display_data"
    }
   ],
   "source": [
    "src_macs = df['eth.dst'].value_counts().plot(kind='pie')"
   ]
  },
  {
   "cell_type": "markdown",
   "metadata": {},
   "source": [
    "- 06:90:f4:0e:e0:ff\n",
    "    - Vendor: Unknown\n",
    "    - Retrieved from: [https://macvendors.com/](https://macvendors.com/)\n",
    "- 06:9a:6c:66:90:33\n",
    "    - Vendor: Unknown\n",
    "    - Retrieved from: [https://macvendors.com/](https://macvendors.com/)"
   ]
  },
  {
   "cell_type": "markdown",
   "metadata": {},
   "source": [
    "## Question 13: What are the source ports involved in the attack?"
   ]
  },
  {
   "cell_type": "code",
   "execution_count": 30,
   "metadata": {},
   "outputs": [
    {
     "name": "stdout",
     "output_type": "stream",
     "text": [
      "53.0      120249\n",
      "1988.0         1\n",
      "Name: udp.srcport, dtype: int64\n"
     ]
    }
   ],
   "source": [
    "udp_srcport_top1=df[df['ip.dst']==top_target_ip]['udp.srcport'].value_counts()\n",
    "print(udp_srcport_top1)"
   ]
  },
  {
   "cell_type": "markdown",
   "metadata": {},
   "source": [
    "## Question 14: How much was the peak data rate of the attack?"
   ]
  },
  {
   "cell_type": "code",
   "execution_count": 43,
   "metadata": {},
   "outputs": [
    {
     "name": "stdout",
     "output_type": "stream",
     "text": [
      "Peak data rate of the attack was 117.670768 Mb/s\n"
     ]
    }
   ],
   "source": [
    "attack_traffic = df[df['ip.dst']==top_target_ip]\n",
    "attack_rate=attack_traffic.set_index(['frame.time_epoch']).groupby(pd.Grouper(freq='S')).agg(['sum'])['frame.len']\n",
    "attack_rate_peak=max(attack_rate['sum'])\n",
    "print(f\"Peak data rate of the attack was {attack_rate_peak/10e5} Mb/s\")"
   ]
  },
  {
   "cell_type": "markdown",
   "metadata": {},
   "source": [
    "## Question 15: What is the distribution of TCP flags involved?"
   ]
  },
  {
   "cell_type": "code",
   "execution_count": 32,
   "metadata": {},
   "outputs": [
    {
     "name": "stdout",
     "output_type": "stream",
     "text": [
      "There is only 1 TCP packet in the capture, which has this 0x00000004 flag set, better known as the RST flag\n"
     ]
    },
    {
     "data": {
      "image/png": "[encoded data removed]",
      "text/plain": [
       "<Figure size 432x288 with 1 Axes>"
      ]
     },
     "metadata": {},
     "output_type": "display_data"
    }
   ],
   "source": [
    "tcp_flags = df['tcp.flags'].value_counts().plot(kind='pie')\n",
    "print(f\"There is only 1 TCP packet in the capture, which has this 0x00000004 flag set, better known as the RST flag\")"
   ]
  },
  {
   "cell_type": "markdown",
   "metadata": {},
   "source": [
    "## Question 16: What is the distribution of packet length?"
   ]
  },
  {
   "cell_type": "code",
   "execution_count": 86,
   "metadata": {},
   "outputs": [
    {
     "data": {
      "image/png": "[encoded data removed]",
      "text/plain": [
       "<Figure size 864x288 with 1 Axes>"
      ]
     },
     "metadata": {
      "needs_background": "light"
     },
     "output_type": "display_data"
    }
   ],
   "source": [
    "fig = plt.figure(figsize=(12,4))\n",
    "\n",
    "ax = plt.subplot2grid((1,1), (0,0))\n",
    "ax.set_title('Packet length over time')\n",
    "ax.set_xlabel('Time')\n",
    "ax.set_ylabel('Packet length')\n",
    "\n",
    "packet_lengths=attack_traffic.set_index(['frame.time_epoch']).groupby(pd.Grouper(freq='S')).mean()['frame.len']\n",
    "packet_lengths.plot(ax=ax)\n",
    "fig.show()"
   ]
  },
  {
   "cell_type": "markdown",
   "metadata": {},
   "source": [
    "# Conclusion\n",
    "\n",
    "As can be seen in this analysis, the DDos attack is quite sizable and there is a lot to be learned from it. As can be seen from the size of the network capture & the calculated data rate of the attack, it was comparatively small in size with only ~100Mb/s worth of traffic to one host. This is less than what most 'booter' services provide on their cheapest plans. However, this traffic did come from 83 unique hosts, so it was quite distributed. As talked about during the lecture & confirmed in this analysis, this attack was an DNS Reflection attack, proved by the fact that most traffic to the victim ip where DNS Query responses coming from port 53 (Standard DNS port), requested by faked DNS queries from the actual attackers. The total duration of the attack is unknown, due to the limited network capture we've used. The attack duration measured from our capture was roughly 25 seconds, starting at 15:38:45. In the graph from Question 16, the start of the attack can be seen nicely, as the packet length rises sharply & significantly. Unfortunately, no information could be found about the actual devices used in the attack, and the IP's only give the rough locations. \n",
    "\n",
    "Concluding this assignment, this analysis of a DDos attack was quite interesting to perform, since almost everyone has heard about these kinds of attacks, but now we actually know what a DDos attack is, what the main features are, how to analyze the attack traffic. "
   ]
  },
  {
   "cell_type": "markdown",
   "metadata": {},
   "source": [
    "# Acknowledgements\n",
    "\n",
    "This notebook has been based on [this notebook](https://github.com/jjsantanna/pcap_dns_ddos_analysis) from our lecturer, Jair Santanna. We'd like to thank him for his work, which has saved us quite some time."
   ]
  }
 ],
 "metadata": {
  "kernelspec": {
   "display_name": "Python 3",
   "language": "python",
   "name": "python3"
  },
  "language_info": {
   "codemirror_mode": {
    "name": "ipython",
    "version": 3
   },
   "file_extension": ".py",
   "mimetype": "text/x-python",
   "name": "python",
   "nbconvert_exporter": "python",
   "pygments_lexer": "ipython3",
   "version": "3.8.3"
  }
 },
 "nbformat": 4,
 "nbformat_minor": 1
}
