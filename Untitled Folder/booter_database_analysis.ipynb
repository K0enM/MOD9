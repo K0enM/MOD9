{
 "cells": [
  {
   "cell_type": "markdown",
   "metadata": {},
   "source": [
    "# Introduction"
   ]
  },
  {
   "cell_type": "markdown",
   "metadata": {},
   "source": [
    "# Motivation"
   ]
  },
  {
   "cell_type": "markdown",
   "metadata": {},
   "source": [
    "# Methodology"
   ]
  },
  {
   "cell_type": "markdown",
   "metadata": {},
   "source": [
    "## Imports"
   ]
  },
  {
   "cell_type": "code",
   "execution_count": 139,
   "metadata": {},
   "outputs": [],
   "source": [
    "import pandas as pd\n",
    "import matplotlib.pyplot as plt\n",
    "import datetime as dt"
   ]
  },
  {
   "cell_type": "code",
   "execution_count": 140,
   "metadata": {},
   "outputs": [
    {
     "data": {
      "text/html": [
       "<div>\n",
       "<style scoped>\n",
       "    .dataframe tbody tr th:only-of-type {\n",
       "        vertical-align: middle;\n",
       "    }\n",
       "\n",
       "    .dataframe tbody tr th {\n",
       "        vertical-align: top;\n",
       "    }\n",
       "\n",
       "    .dataframe thead th {\n",
       "        text-align: right;\n",
       "    }\n",
       "</style>\n",
       "<table border=\"1\" class=\"dataframe\">\n",
       "  <thead>\n",
       "    <tr style=\"text-align: right;\">\n",
       "      <th></th>\n",
       "      <th>id</th>\n",
       "      <th>processid</th>\n",
       "      <th>victim</th>\n",
       "      <th>port_service`_type</th>\n",
       "      <th>type</th>\n",
       "      <th>duration</th>\n",
       "      <th>time</th>\n",
       "      <th>stopped</th>\n",
       "      <th>client_attacker</th>\n",
       "      <th>server_used_in_th_attack</th>\n",
       "    </tr>\n",
       "  </thead>\n",
       "  <tbody>\n",
       "    <tr>\n",
       "      <th>0</th>\n",
       "      <td>1</td>\n",
       "      <td>5672</td>\n",
       "      <td>91.214.20.52</td>\n",
       "      <td>80</td>\n",
       "      <td>ESSYN</td>\n",
       "      <td>33</td>\n",
       "      <td>1358989954</td>\n",
       "      <td>1</td>\n",
       "      <td>1</td>\n",
       "      <td>94.102.49.76</td>\n",
       "    </tr>\n",
       "    <tr>\n",
       "      <th>1</th>\n",
       "      <td>2</td>\n",
       "      <td>29065</td>\n",
       "      <td>91.214.20.52</td>\n",
       "      <td>80</td>\n",
       "      <td>UDP</td>\n",
       "      <td>1783</td>\n",
       "      <td>1358990329</td>\n",
       "      <td>1</td>\n",
       "      <td>1</td>\n",
       "      <td>93.174.93.30</td>\n",
       "    </tr>\n",
       "    <tr>\n",
       "      <th>2</th>\n",
       "      <td>3</td>\n",
       "      <td>23005</td>\n",
       "      <td>78.31.8.124</td>\n",
       "      <td>80</td>\n",
       "      <td>ESSYN</td>\n",
       "      <td>393</td>\n",
       "      <td>1358991360</td>\n",
       "      <td>0</td>\n",
       "      <td>1</td>\n",
       "      <td>89.248.172.97</td>\n",
       "    </tr>\n",
       "    <tr>\n",
       "      <th>3</th>\n",
       "      <td>4</td>\n",
       "      <td>29411</td>\n",
       "      <td>199.204.44.188</td>\n",
       "      <td>80</td>\n",
       "      <td>ESSYN</td>\n",
       "      <td>60</td>\n",
       "      <td>1358995416</td>\n",
       "      <td>0</td>\n",
       "      <td>4</td>\n",
       "      <td>93.174.93.30</td>\n",
       "    </tr>\n",
       "    <tr>\n",
       "      <th>4</th>\n",
       "      <td>5</td>\n",
       "      <td>19298</td>\n",
       "      <td>http://chrome-mods.com</td>\n",
       "      <td>80</td>\n",
       "      <td>RUDY</td>\n",
       "      <td>50000</td>\n",
       "      <td>1358995471</td>\n",
       "      <td>1</td>\n",
       "      <td>3</td>\n",
       "      <td>72.9.144.80</td>\n",
       "    </tr>\n",
       "  </tbody>\n",
       "</table>\n",
       "</div>"
      ],
      "text/plain": [
       "   id processid                  victim  port_service`_type   type  duration  \\\n",
       "0   1      5672            91.214.20.52                  80  ESSYN        33   \n",
       "1   2     29065            91.214.20.52                  80    UDP      1783   \n",
       "2   3     23005             78.31.8.124                  80  ESSYN       393   \n",
       "3   4     29411          199.204.44.188                  80  ESSYN        60   \n",
       "4   5     19298  http://chrome-mods.com                  80   RUDY     50000   \n",
       "\n",
       "         time  stopped  client_attacker server_used_in_th_attack  \n",
       "0  1358989954        1                1             94.102.49.76  \n",
       "1  1358990329        1                1             93.174.93.30  \n",
       "2  1358991360        0                1            89.248.172.97  \n",
       "3  1358995416        0                4             93.174.93.30  \n",
       "4  1358995471        1                3              72.9.144.80  "
      ]
     },
     "execution_count": 140,
     "metadata": {},
     "output_type": "execute_result"
    }
   ],
   "source": [
    "attacks = pd.read_csv('table_attack_twbooter.csv', sep=';')\n",
    "attacks.head(5)"
   ]
  },
  {
   "cell_type": "markdown",
   "metadata": {},
   "source": [
    "## Helper functions"
   ]
  },
  {
   "cell_type": "code",
   "execution_count": 141,
   "metadata": {},
   "outputs": [],
   "source": [
    "def days_between_epochs(e1, e2):\n",
    "    d1 = dt.datetime.fromtimestamp(e1)\n",
    "    d2 = dt.datetime.fromtimestamp(e2)\n",
    "    return abs((d2 - d1))"
   ]
  },
  {
   "cell_type": "markdown",
   "metadata": {},
   "source": [
    "# Results"
   ]
  },
  {
   "cell_type": "code",
   "execution_count": 142,
   "metadata": {},
   "outputs": [
    {
     "name": "stdout",
     "output_type": "stream",
     "text": [
      "total_attacks=48773\n"
     ]
    }
   ],
   "source": [
    "total_attacks = attacks.shape[0]\n",
    "print(f\"{total_attacks=}\")"
   ]
  },
  {
   "cell_type": "code",
   "execution_count": 143,
   "metadata": {},
   "outputs": [
    {
     "name": "stdout",
     "output_type": "stream",
     "text": [
      "unique_users=array([  1,   4,   3,   6,   8,  11,   5,  12,  14,  17,  18,  15,  10,\n",
      "        19,  20,  23,  24,  25,  28,  22,  32,  33,  31,   7,  26,  37,\n",
      "        38,  39,  41,  29,  42,  44,  47,  48,  50,  46,  51,  53,  55,\n",
      "        52,  16,  56,  49,  58,  62,  63,  36,  45,  65,  66,  68,  69,\n",
      "        70,  71,  72,  75,  64,  76,  78,  67,  79,  80,  81,  54,  60,\n",
      "        30,  82,  84,  85,  91,  95,  96,  87,  97,  99, 100,  86, 103,\n",
      "       101, 102, 104, 105, 106, 107, 108, 109, 112, 114, 113, 116, 117,\n",
      "       118, 111, 115, 120,  21, 121, 124, 123, 125, 119, 126, 127,  93,\n",
      "       129, 130, 132, 131,  13,  83,  98, 133, 134, 135, 136,  43, 128,\n",
      "       137, 138,  92, 139, 140, 141, 142, 154, 155,  74, 156, 157, 158,\n",
      "       159, 122, 160, 161, 162, 163, 164, 165,  59,  27, 110, 166, 167,\n",
      "       169, 170, 171, 168, 172, 173,  94, 174, 177, 176, 175, 178, 179,\n",
      "       180, 181, 182, 183, 184, 185, 186,  90, 187, 188, 189, 192, 190,\n",
      "       191, 194, 195, 196, 198, 199, 197, 200, 202, 205, 204, 206, 207,\n",
      "       209, 208, 211, 212,   2, 210, 213, 214, 215, 217, 218, 219, 220,\n",
      "       221, 222, 223, 224, 225, 226, 227, 228, 229, 230, 231, 232, 234,\n",
      "       235, 236, 237, 239, 238, 240, 246, 247, 250, 249, 248, 251, 252,\n",
      "       253, 257, 255, 256, 254, 258, 259, 261, 262, 260, 263, 264, 267,\n",
      "       265, 268, 269, 266, 272, 270, 271, 274, 277, 276, 275, 273, 278,\n",
      "       279, 280, 282, 283, 284, 285, 287, 289, 286, 290, 291, 292, 293,\n",
      "       295, 296, 297, 298, 299, 300, 301, 302, 303, 304, 306, 307, 308,\n",
      "       309, 310, 312, 311], dtype=int64)\n"
     ]
    }
   ],
   "source": [
    "unique_users = attacks['client_attacker'].unique()\n",
    "print(f\"{unique_users=}\")"
   ]
  },
  {
   "cell_type": "code",
   "execution_count": 179,
   "metadata": {},
   "outputs": [
    {
     "data": {
      "text/plain": [
       "http://87.106.136.156    1106\n",
       "http://212.7.214.197      798\n",
       "http://186.202.153.45     237\n",
       "http://69.162.77.11       221\n",
       "http://70.39.68.226       182\n",
       "http://187.45.182.231     108\n",
       "http://67.220.67.10        81\n",
       "http://69.162.99.242       80\n",
       "http://64.32.27.47         77\n",
       "http://199.59.161.51       73\n",
       "Name: victim, dtype: int64"
      ]
     },
     "execution_count": 179,
     "metadata": {},
     "output_type": "execute_result"
    }
   ],
   "source": [
    "# top_10_victim_ips = attacks['victim'].str.findall(r'(?:\\d{1,3}\\.)+(?:\\d{1,3})').str[0].value_counts()\n",
    "top_10_victim_ips = attacks['victim'].str.findall(r'http://(?:\\d{1,3}\\.)+(?:\\d{1,3})').str[0].value_counts()\n",
    "top_10_victim_ips[:10]"
   ]
  },
  {
   "cell_type": "code",
   "execution_count": 145,
   "metadata": {},
   "outputs": [
    {
     "data": {
      "text/plain": [
       "http://www.relog.co.il            635\n",
       "http://rewards.yourpshome.net     445\n",
       "http://pshomecentral.net          383\n",
       "http://ajnabi.vchats.info/        367\n",
       "http://rewards.yourpshome.net/    190\n",
       "http://ajnabi.pkfun.net/          184\n",
       "http://www.nordicmakten.com       178\n",
       "http://www.nordicmafia.net        107\n",
       "http://www.yourpshome.net         100\n",
       "http://violvocal.com               93\n",
       "Name: victim, dtype: int64"
      ]
     },
     "execution_count": 145,
     "metadata": {},
     "output_type": "execute_result"
    }
   ],
   "source": [
    "top_10_victim_domains = attacks['victim'][attacks['victim'].str.match(r'http://(\\D+)\\.(\\w+)')].value_counts()\n",
    "top_10_victim_domains[:10]"
   ]
  },
  {
   "cell_type": "code",
   "execution_count": 146,
   "metadata": {},
   "outputs": [
    {
     "data": {
      "text/plain": [
       "500000"
      ]
     },
     "execution_count": 146,
     "metadata": {},
     "output_type": "execute_result"
    }
   ],
   "source": [
    "max_attack_duration = max(attacks['duration'])\n",
    "max_attack_duration"
   ]
  },
  {
   "cell_type": "code",
   "execution_count": 147,
   "metadata": {},
   "outputs": [
    {
     "data": {
      "text/plain": [
       "ESSYN    19618\n",
       "UDP      10505\n",
       "RUDY      5808\n",
       "Name: type, dtype: int64"
      ]
     },
     "execution_count": 147,
     "metadata": {},
     "output_type": "execute_result"
    }
   ],
   "source": [
    "top_attack_types = attacks['type'].value_counts()\n",
    "top_attack_types[:3]"
   ]
  },
  {
   "cell_type": "code",
   "execution_count": 148,
   "metadata": {},
   "outputs": [
    {
     "data": {
      "text/plain": [
       "15"
      ]
     },
     "execution_count": 148,
     "metadata": {},
     "output_type": "execute_result"
    }
   ],
   "source": [
    "krebson_attacks = attacks[(attacks['victim'] == 'http://krebsonsecurity.com') | (attacks['victim']== 'http://www.krebsonsecurity.com') | (attacks['victim'] == 'http://krebsonsecurity.com/')]\n",
    "krebson_attacks.shape[0]"
   ]
  },
  {
   "cell_type": "code",
   "execution_count": 149,
   "metadata": {},
   "outputs": [
    {
     "name": "stdout",
     "output_type": "stream",
     "text": [
      "50 days, 11:32:42\n"
     ]
    }
   ],
   "source": [
    "booter_lifetime = days_between_epochs(max(attacks['time']), min(attacks['time']))\n",
    "print(str(booter_lifetime))"
   ]
  },
  {
   "cell_type": "code",
   "execution_count": 150,
   "metadata": {},
   "outputs": [
    {
     "data": {
      "text/plain": [
       "client_attacker\n",
       "3      24161280\n",
       "126     9422788\n",
       "31      6100635\n",
       "Name: duration, dtype: int64"
      ]
     },
     "execution_count": 150,
     "metadata": {},
     "output_type": "execute_result"
    }
   ],
   "source": [
    "largest_attacker = attacks.groupby(['client_attacker'])['duration'].sum().sort_values(ascending=False)[:3]\n",
    "largest_attacker"
   ]
  },
  {
   "cell_type": "code",
   "execution_count": 151,
   "metadata": {},
   "outputs": [
    {
     "data": {
      "text/plain": [
       "client_attacker\n",
       "111    1669\n",
       "126    1522\n",
       "41     1246\n",
       "46     1087\n",
       "235    1077\n",
       "232     893\n",
       "31      770\n",
       "21      728\n",
       "176     697\n",
       "91      680\n",
       "Name: stopped, dtype: int64"
      ]
     },
     "execution_count": 151,
     "metadata": {},
     "output_type": "execute_result"
    }
   ],
   "source": [
    "top_10_stopped_attackers = attacks.groupby('client_attacker')['stopped'].sum().sort_values(ascending=False)[:10]\n",
    "top_10_stopped_attackers"
   ]
  },
  {
   "cell_type": "markdown",
   "metadata": {},
   "source": [
    "# Conclusion"
   ]
  }
 ],
 "metadata": {
  "kernelspec": {
   "display_name": "Python 3",
   "language": "python",
   "name": "python3"
  },
  "language_info": {
   "codemirror_mode": {
    "name": "ipython",
    "version": 3
   },
   "file_extension": ".py",
   "mimetype": "text/x-python",
   "name": "python",
   "nbconvert_exporter": "python",
   "pygments_lexer": "ipython3",
   "version": "3.8.3"
  }
 },
 "nbformat": 4,
 "nbformat_minor": 4
}
